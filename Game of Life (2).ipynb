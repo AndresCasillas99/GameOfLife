{
 "cells": [
  {
   "cell_type": "code",
   "execution_count": 1,
   "id": "honest-sapphire",
   "metadata": {},
   "outputs": [],
   "source": [
    "using Luxor"
   ]
  },
  {
   "cell_type": "code",
   "execution_count": 4,
   "id": "electric-player",
   "metadata": {
    "scrolled": true
   },
   "outputs": [
    {
     "name": "stderr",
     "output_type": "stream",
     "text": [
      "┌ Info: Precompiling Primes [27ebfcd6-29c5-5fa9-bf4b-fb8fc14df3ae]\n",
      "└ @ Base loading.jl:1278\n"
     ]
    }
   ],
   "source": [
    "#Solo para crear la Espiral de Ulam\n",
    "using Primes"
   ]
  },
  {
   "cell_type": "markdown",
   "id": "welsh-vocabulary",
   "metadata": {},
   "source": [
    "# Funciones para crear nuevas matrices"
   ]
  },
  {
   "cell_type": "code",
   "execution_count": 5,
   "id": "recent-stress",
   "metadata": {},
   "outputs": [
    {
     "data": {
      "text/plain": [
       "reflejar_eje_x (generic function with 1 method)"
      ]
     },
     "execution_count": 5,
     "metadata": {},
     "output_type": "execute_result"
    }
   ],
   "source": [
    "\n",
    "function reflejar_eje_x(A)\n",
    "    \n",
    "    k = size(A)[1]\n",
    "    l = size(A)[2]\n",
    "    \n",
    "    B = zeros(Int8, (k,l))\n",
    "    \n",
    "    for i ∈ 1:l, j ∈ 1:k\n",
    "        \n",
    "        B[k + 1 - j, i ] = A[j,i]\n",
    "        \n",
    "    end\n",
    "        return B\n",
    "end"
   ]
  },
  {
   "cell_type": "code",
   "execution_count": 6,
   "id": "entire-speaking",
   "metadata": {},
   "outputs": [
    {
     "data": {
      "text/plain": [
       "reflejar_eje_y (generic function with 1 method)"
      ]
     },
     "execution_count": 6,
     "metadata": {},
     "output_type": "execute_result"
    }
   ],
   "source": [
    "function reflejar_eje_y(A)\n",
    "    \n",
    "    k = size(A)[1]\n",
    "    l = size(A)[2]\n",
    "    \n",
    "    B = zeros(Int8, (k,l))\n",
    "    \n",
    "    for i ∈ 1:l, j ∈ 1:k\n",
    "        \n",
    "        B[j, l + 1 - i ] = A[j,i]\n",
    "        \n",
    "    end\n",
    "        return B\n",
    "end"
   ]
  },
  {
   "cell_type": "code",
   "execution_count": 7,
   "id": "acquired-paragraph",
   "metadata": {},
   "outputs": [
    {
     "data": {
      "text/plain": [
       "reflejar_origen (generic function with 1 method)"
      ]
     },
     "execution_count": 7,
     "metadata": {},
     "output_type": "execute_result"
    }
   ],
   "source": [
    "function reflejar_origen(A)\n",
    "    \n",
    "    k = size(A)[1]\n",
    "    l = size(A)[2]\n",
    "    \n",
    "    B = zeros(Int8, (k,l))\n",
    "    \n",
    "    for i ∈ 1:l, j ∈ 1:k\n",
    "        \n",
    "        B[k + 1 - j, l + 1 - i ] = A[j,i]\n",
    "        \n",
    "    end\n",
    "        return B\n",
    "end"
   ]
  },
  {
   "cell_type": "code",
   "execution_count": 8,
   "id": "inappropriate-supervision",
   "metadata": {},
   "outputs": [
    {
     "data": {
      "text/plain": [
       "trasladar_abajo (generic function with 1 method)"
      ]
     },
     "execution_count": 8,
     "metadata": {},
     "output_type": "execute_result"
    }
   ],
   "source": [
    "function trasladar_abajo(A, n)\n",
    "    \n",
    "    k = size(A)[1]\n",
    "    l = size(A)[2]\n",
    "    \n",
    "    B = zeros(Int8, (k,l))\n",
    "    \n",
    "    for i ∈ 1:l, j ∈ 1:(k - n)\n",
    "\n",
    "        B[j + n, i] = A[j, i]\n",
    "    end\n",
    "    return B\n",
    "    \n",
    "end\n"
   ]
  },
  {
   "cell_type": "code",
   "execution_count": 9,
   "id": "revised-rescue",
   "metadata": {},
   "outputs": [
    {
     "data": {
      "text/plain": [
       "trasladar_derecha (generic function with 1 method)"
      ]
     },
     "execution_count": 9,
     "metadata": {},
     "output_type": "execute_result"
    }
   ],
   "source": [
    "function trasladar_derecha(A,n)\n",
    "    \n",
    "    k = size(A)[1]\n",
    "    l = size(A)[2]\n",
    "    \n",
    "    B = zeros(Int8, (k,l))\n",
    "    \n",
    "    for i ∈ 1:(l - n), j ∈ 1:k\n",
    "\n",
    "        B[j, i + n] = A[j, i]\n",
    "    end\n",
    "    return B\n",
    "end"
   ]
  },
  {
   "cell_type": "code",
   "execution_count": 10,
   "id": "organized-walter",
   "metadata": {},
   "outputs": [
    {
     "data": {
      "text/plain": [
       "recorrerPT (generic function with 1 method)"
      ]
     },
     "execution_count": 10,
     "metadata": {},
     "output_type": "execute_result"
    }
   ],
   "source": [
    "#Solo es para el experimento PT\n",
    "\n",
    "function recorrerPT(A)\n",
    "    \n",
    "    PT2 = zeros(Int8, (300, 300))\n",
    "    for i ∈ 1:size(A,1), j ∈ 1:size(A,1)\n",
    "        PT2[j + 72, i + 50] = PT[j, i]\n",
    "    end\n",
    "    return PT2\n",
    "end"
   ]
  },
  {
   "cell_type": "code",
   "execution_count": 11,
   "id": "changed-surface",
   "metadata": {},
   "outputs": [
    {
     "data": {
      "text/plain": [
       "ampliar (generic function with 1 method)"
      ]
     },
     "execution_count": 11,
     "metadata": {},
     "output_type": "execute_result"
    }
   ],
   "source": [
    "\n",
    "\n",
    "function ampliar(A, n)\n",
    "    \n",
    "    k = size(A)[1]\n",
    "    l = size(A)[2]\n",
    "    \n",
    "    B = zeros(Int8, (n,n))\n",
    "    \n",
    "    [B[j,i] = A[j,i] for i ∈ 1:l, j ∈ 1:k]\n",
    "    \n",
    "    return B\n",
    "end\n",
    "\n"
   ]
  },
  {
   "cell_type": "markdown",
   "id": "geographic-effort",
   "metadata": {},
   "source": [
    "# Experimentos"
   ]
  },
  {
   "cell_type": "markdown",
   "id": "loaded-kidney",
   "metadata": {},
   "source": [
    "## Espiral de Ulam"
   ]
  },
  {
   "cell_type": "code",
   "execution_count": 12,
   "id": "nearby-pearl",
   "metadata": {
    "scrolled": true
   },
   "outputs": [],
   "source": [
    "#=\n",
    "    \n",
    "    Valores iniciales\n",
    "=#\n",
    "\n",
    "Ulam = zeros(Int128, (250, 250))\n",
    "j, i = Int128(size(Ulam, 1) /2) , Int128(size(Ulam, 1) /2) #Tiene que ser la mitad de la matriz \n",
    "valor = 2\n",
    "pasos = 1\n",
    "Ulam[j,i] = 1\n",
    "Ulam2 = copy(Ulam)\n",
    "Ulam3 = zeros(Int128, (size(Ulam2, 1), size(Ulam2, 1)))\n",
    "#=\n",
    "    Algoritmo \n",
    "=#\n",
    "\n",
    "for k ∈ 1:(Int128(size(Ulam, 1)/2) - 1)\n",
    "    \n",
    "    #Primero nos movemos la derecha\n",
    "    \n",
    "    for p ∈ 1:pasos\n",
    "        Ulam2[j, i + p] = valor \n",
    "        valor += 1\n",
    "    end\n",
    "    j = j\n",
    "    i = i + pasos\n",
    "\n",
    "    #Ahora no movemos arriba \n",
    "\n",
    "    for p ∈ 1:pasos\n",
    "        Ulam2[j - p, i ] = valor \n",
    "        valor += 1\n",
    "    end\n",
    "    i = i\n",
    "    j = j - pasos\n",
    "    pasos += 1\n",
    "\n",
    "\n",
    "    #Nos movemos la izquierda\n",
    "\n",
    "\n",
    "    for p ∈ 1:pasos \n",
    "        Ulam2[j , i - p] = valor\n",
    "        valor += 1\n",
    "    end\n",
    "\n",
    "    i = i - pasos\n",
    "    j = j\n",
    "\n",
    "    #Nos movemos hacia abajo\n",
    "\n",
    "    for p ∈ 1:pasos\n",
    "        Ulam2[j + p , i] = valor\n",
    "        valor += 1\n",
    "    end\n",
    "\n",
    "    i = i\n",
    "    j = j + pasos\n",
    "    pasos += 1\n",
    "    \n",
    "end\n",
    "\n",
    "#Dibujar la matriz con base en la de primos\n",
    "\n",
    "for i ∈ 1:size(Ulam2, 1), j ∈ 1:size(Ulam2, 1)\n",
    "    \n",
    "    if isprime(Ulam2[j,i]) == true\n",
    "        \n",
    "        Ulam3[j,i] = 1\n",
    "        \n",
    "    end\n",
    "end\n",
    "\n",
    "\n",
    "#@draw dibujar_matriz(Ulam3)\n",
    "\n",
    "\n"
   ]
  },
  {
   "cell_type": "code",
   "execution_count": 13,
   "id": "impossible-wichita",
   "metadata": {
    "scrolled": true
   },
   "outputs": [],
   "source": [
    "#Inversa de Ulam3\n",
    "\n",
    "Ulam4 = zeros(Int8, (size(Ulam3, 1), size(Ulam3, 1)))\n",
    "\n",
    "for i ∈ 1:size(Ulam3, 1), j ∈ 1:size(Ulam3, 1)\n",
    "    \n",
    "    if Ulam3[j,i] == 1\n",
    "        \n",
    "        Ulam4[j,i] = 0\n",
    "    else \n",
    "        Ulam4[i,j] = 1\n",
    "        \n",
    "    end\n",
    "end\n",
    ";\n",
    "#@draw dibujar_matriz(Ulam4)"
   ]
  },
  {
   "cell_type": "code",
   "execution_count": 24,
   "id": "joint-evidence",
   "metadata": {},
   "outputs": [
    {
     "data": {
      "image/png": "[encoded data removed]",
      "text/plain": []
     },
     "execution_count": 24,
     "metadata": {},
     "output_type": "execute_result"
    }
   ],
   "source": [
    "#Una cruz\n",
    "\n",
    "Cruz = zeros(Int8, (100,100))\n",
    "Cruz[50, 1:size(Cruz,1)] .= 1\n",
    "Cruz[1:size(Cruz, 1), 50] .= 1\n",
    ";\n",
    "@draw dibujar_matriz(Cruz,1,1,1)"
   ]
  },
  {
   "cell_type": "code",
   "execution_count": 34,
   "id": "governmental-allah",
   "metadata": {},
   "outputs": [],
   "source": [
    "Mprimos = zeros(Int8, (100,100))\n",
    "\n",
    "for i ∈ 1:size(Mprimos,1), j ∈ 1:size(Mprimos,1)\n",
    "    if isprime(i) == true ||  isprime(j) ==  true \n",
    "        Mprimos[i,j] = 1\n",
    "    end\n",
    "end\n",
    "\n",
    ";\n",
    "#@draw dibujar_matriz(Mprimos)"
   ]
  },
  {
   "cell_type": "code",
   "execution_count": 37,
   "id": "saved-arizona",
   "metadata": {},
   "outputs": [],
   "source": [
    "D = zeros(Int8, (100,100))\n",
    "for i ∈ 1:size(D,1), j ∈ 1:size(D,1)\n",
    "    if i == j \n",
    "        D[i,j] = 1\n",
    "    end\n",
    "end\n",
    "\n",
    "D1 = reflejar_eje_x(D)\n",
    "D2 = D + D1\n",
    ";\n",
    "#@draw dibujar_matriz(D2)"
   ]
  },
  {
   "cell_type": "code",
   "execution_count": 86,
   "id": "baking-medium",
   "metadata": {},
   "outputs": [
    {
     "data": {
      "image/png": "[encoded data removed]",
      "text/plain": []
     },
     "execution_count": 86,
     "metadata": {},
     "output_type": "execute_result"
    }
   ],
   "source": [
    "#=\n",
    "Glider\n",
    "=#\n",
    "\n",
    "G = zeros(Int8, (10,10)) #Matriz de ceros\n",
    "G[4, 3:4] .= 1\n",
    "G[3, 2] = 1\n",
    "G[2:4, 4] .= 1\n",
    "\n",
    ";\n",
    "@draw dibujar_matriz(G,0,0,0)"
   ]
  },
  {
   "cell_type": "code",
   "execution_count": 39,
   "id": "banner-relief",
   "metadata": {
    "scrolled": true
   },
   "outputs": [],
   "source": [
    "#matriz aleatoria de 1 y 0 en cada entrada\n",
    "\n",
    "Mrand = zeros(Int8, (50,50))\n",
    "for i ∈ 1:size(Mrand, 1), j ∈ 1:size(Mrand, 1)\n",
    "    r = rand(0:1)\n",
    "    Mrand[j,i] = r\n",
    "end\n",
    ";\n",
    "#@draw dibujar_matriz(Mrand)"
   ]
  },
  {
   "cell_type": "markdown",
   "id": "third-hobby",
   "metadata": {},
   "source": [
    "## Glider cannon"
   ]
  },
  {
   "cell_type": "code",
   "execution_count": 59,
   "id": "inappropriate-fraud",
   "metadata": {},
   "outputs": [
    {
     "data": {
      "image/png": "[encoded data removed]",
      "text/plain": []
     },
     "execution_count": 59,
     "metadata": {},
     "output_type": "execute_result"
    }
   ],
   "source": [
    "#= \n",
    "Cañón de gliders\n",
    "Cada 30 generaciones se genera un glider\n",
    "\n",
    "=#\n",
    "C = zeros(Int8, (50,50))\n",
    "C[6:7, 3:4] .= 1\n",
    "C[6:8, 13] .= 1\n",
    "C[5, 14] = 1\n",
    "C[9, 14] = 1\n",
    "C[10, 15:16] .= 1\n",
    "C[4, 15:16] .= 1\n",
    "C[7, 17] = 1\n",
    "C[5, 18] = 1\n",
    "C[9, 18] = 1\n",
    "C[6:8, 19] .= 1\n",
    "C[7, 20] = 1\n",
    "C[4:6, 23:24] .= 1\n",
    "C[3, 25] = 1\n",
    "C[7, 25] = 1\n",
    "C[7:8, 27] .= 1\n",
    "C[2:3, 27] .= 1\n",
    "C[4:5, 37:38] .=1\n",
    ";\n",
    "@draw dibujar_matriz(C, 0, 0, 0)"
   ]
  },
  {
   "cell_type": "code",
   "execution_count": 2,
   "id": "third-contrary",
   "metadata": {
    "scrolled": false
   },
   "outputs": [],
   "source": [
    "#= \n",
    "Conidicion inicial interesante \"U\"\n",
    "con estabilidad hasta la generacion 180\n",
    "=#\n",
    "\n",
    "H = zeros(Int8, (50,50))\n",
    "H[26, 24:26] .= 1\n",
    "H[24:26, 24] .= 1\n",
    "H[24:26, 26] .= 1\n",
    ";\n",
    "#@draw dibujar_matriz(H)"
   ]
  },
  {
   "cell_type": "code",
   "execution_count": 37,
   "id": "adopted-burns",
   "metadata": {
    "scrolled": true
   },
   "outputs": [],
   "source": [
    "#Cara\n",
    "\n",
    "J = zeros(Int8, (50,50))\n",
    "J[23:25, 29] = J[23:25, 21] .= 1\n",
    "J[28, 24:26] .= 1\n",
    "J[26, 22] = J[26, 28] =  1\n",
    "J[27, 23] = J[27, 27] = 1\n",
    "\n",
    ";\n",
    "#@draw dibujar_matriz(J, 1, 0, 0)"
   ]
  },
  {
   "cell_type": "code",
   "execution_count": 35,
   "id": "limiting-export",
   "metadata": {},
   "outputs": [],
   "source": [
    "#J1 saca 4 gliders en diagonal\n",
    "\n",
    "J1 = reflejar_eje_x(J) + J\n",
    ";\n",
    "#@draw dibujar_matriz(J1, 0,1,0)"
   ]
  },
  {
   "cell_type": "code",
   "execution_count": 20,
   "id": "major-costa",
   "metadata": {
    "scrolled": false
   },
   "outputs": [],
   "source": [
    "#Ventana\n",
    "\n",
    "E1 = zeros(Int8, (50,50))\n",
    "E1[20:30, 20] = E1[20:30, 30] .= 1\n",
    "E1[20, 20:30] = E1[30, 20:30] .= 1\n",
    "E1[20:30, 25] .= 1\n",
    "E1[25, 20:30] .=1\n",
    ";\n",
    "#@draw dibujar_matriz(E1)"
   ]
  },
  {
   "cell_type": "code",
   "execution_count": 15,
   "id": "composite-patrick",
   "metadata": {},
   "outputs": [],
   "source": [
    "#Cuadriculado\n",
    "\n",
    "E2 = zeros(Int8, (50,50))\n",
    "\n",
    "for i ∈ 1:size(E2,1), j ∈ 1:size(E2,1)\n",
    "    if i % 2 == 0 || j % 2 == 0\n",
    "        E2[i,j] = 1\n",
    "    end\n",
    "end\n",
    ";\n",
    "#@draw dibujar_matriz(E2)"
   ]
  },
  {
   "cell_type": "code",
   "execution_count": 6,
   "id": "welcome-michael",
   "metadata": {
    "scrolled": false
   },
   "outputs": [],
   "source": [
    "\n",
    "E3 = zeros(Int8, (50,500))\n",
    "\n",
    "for i ∈ 1:size(E3,1), j ∈ 1:size(E3,1)\n",
    "    if i % 2 == 0 && j % 2 == 0\n",
    "        E3[i,j] = 1\n",
    "    end\n",
    "    if i == j\n",
    "        E3[i,j] = 1\n",
    "    end\n",
    "end\n",
    ";\n",
    "#@draw dibujar_matriz(E3)"
   ]
  },
  {
   "cell_type": "code",
   "execution_count": 16,
   "id": "sapphire-answer",
   "metadata": {
    "scrolled": false
   },
   "outputs": [],
   "source": [
    "#=\n",
    "L[i]nea recta\n",
    "Estable a las 500 generaciones\n",
    "=#\n",
    "\n",
    "E4 = zeros(Int8, (100,100))\n",
    "E4[1:size(E4, 1), 50] .= 1\n",
    ";\n",
    "#@draw dibujar_matriz(E4)"
   ]
  },
  {
   "cell_type": "code",
   "execution_count": 41,
   "id": "grand-mayor",
   "metadata": {
    "scrolled": true
   },
   "outputs": [],
   "source": [
    "E5 = zeros(Int8, (500, 500))\n",
    "E5[100:400, 254:256] .= 1\n",
    ";\n",
    "#@draw dibujar_matriz(E5)"
   ]
  },
  {
   "cell_type": "markdown",
   "id": "advised-mobile",
   "metadata": {},
   "source": [
    "## Cuatro glider cannons"
   ]
  },
  {
   "cell_type": "code",
   "execution_count": 20,
   "id": "progressive-drinking",
   "metadata": {
    "scrolled": true
   },
   "outputs": [
    {
     "ename": "LoadError",
     "evalue": "\u001b[91mUndefVarError: C not defined\u001b[39m",
     "output_type": "error",
     "traceback": [
      "\u001b[91mUndefVarError: C not defined\u001b[39m",
      "",
      "Stacktrace:",
      " [1] top-level scope at In[20]:1",
      " [2] include_string(::Function, ::Module, ::String, ::String) at .\\loading.jl:1091"
     ]
    }
   ],
   "source": [
    "C1 = reflejar_eje_x(C)\n",
    "C2 = reflejar_eje_y(C)\n",
    "C3 = reflejar_eje_x(C2)\n",
    "\n",
    "C4 = C + C1 + C2 + C3\n",
    ";\n",
    "#@draw dibujar_matriz(C4)"
   ]
  },
  {
   "cell_type": "code",
   "execution_count": 64,
   "id": "dying-knitting",
   "metadata": {},
   "outputs": [],
   "source": [
    "#Matusalen\n",
    "\n",
    "#\"Diehard\"\n",
    "\n",
    "DH = zeros(Int8, (50,50))\n",
    "\n",
    "DH[24, 28] = 1\n",
    "DH[25, 22:23] .= 1\n",
    "DH[26, 23] = 1 \n",
    "DH[26, 27:29] .= 1\n",
    ";\n",
    "#@draw dibujar_matriz(DH)\n"
   ]
  },
  {
   "cell_type": "code",
   "execution_count": 8,
   "id": "limiting-integration",
   "metadata": {
    "scrolled": true
   },
   "outputs": [],
   "source": [
    "#= \n",
    "\"T\"\n",
    "Una condicion inicial muy interesante \n",
    "con estabilidad hasta la generacion 1500\n",
    "=#\n",
    "\n",
    "C2 = zeros(Int8, (100, 100))\n",
    "C2[48, 48:49] .= 1\n",
    "C2[49, 49:50] .= 1\n",
    "C2[50, 49] = 1\n",
    ";\n",
    "#@draw dibujar_matriz(C2) #Ver la matriz "
   ]
  },
  {
   "cell_type": "code",
   "execution_count": 9,
   "id": "interior-characteristic",
   "metadata": {},
   "outputs": [
    {
     "ename": "LoadError",
     "evalue": "\u001b[91mUndefVarError: C4 not defined\u001b[39m",
     "output_type": "error",
     "traceback": [
      "\u001b[91mUndefVarError: C4 not defined\u001b[39m",
      "",
      "Stacktrace:",
      " [1] top-level scope at In[9]:1",
      " [2] include_string(::Function, ::Module, ::String, ::String) at .\\loading.jl:1091"
     ]
    }
   ],
   "source": [
    "C5 = C2 + C4\n",
    ";\n",
    "#@draw dibujar_matriz(C5)"
   ]
  },
  {
   "cell_type": "code",
   "execution_count": 67,
   "id": "guilty-tolerance",
   "metadata": {},
   "outputs": [
    {
     "data": {
      "image/png": "[encoded data removed]",
      "text/plain": []
     },
     "execution_count": 67,
     "metadata": {},
     "output_type": "execute_result"
    }
   ],
   "source": [
    "#= \n",
    "Puffer. Va a caminar hacia la derecha\n",
    "=#\n",
    "\n",
    "P = zeros(Int8, (50,50))\n",
    "P[3, 2] = 1\n",
    "P[2, 3:5] .= 1\n",
    "P[2:5, 5] .= 1\n",
    "P[6, 4] = 1\n",
    "P[6, 9] = 1\n",
    "P[4:5, 10] .= 1\n",
    "P[4, 10:12] .= 1\n",
    "P[5, 13] = 1\n",
    "P[3, 16] = 1\n",
    "P[2, 17:19] .= 1\n",
    "P[2:5, 19] .= 1\n",
    "P[6, 18] = 1\n",
    ";\n",
    "@draw dibujar_matriz(P,0,0,0)"
   ]
  },
  {
   "cell_type": "code",
   "execution_count": 63,
   "id": "coastal-castle",
   "metadata": {},
   "outputs": [
    {
     "data": {
      "image/png": "[encoded data removed]",
      "text/plain": []
     },
     "execution_count": 63,
     "metadata": {},
     "output_type": "execute_result"
    }
   ],
   "source": [
    "#= \n",
    "Blinker. Configuracion estable que se reinicia con periodo 8\n",
    "=#\n",
    "\n",
    "B = zeros(Int8, (11, 11))\n",
    "B[3, 3:4] .= 1\n",
    "B[3, 8:9] .= 1\n",
    "B[3:4, 6] .= 1\n",
    "B[5, 3] = 1\n",
    "B[5, 9] = 1\n",
    "B[6, 4:8] .= 1\n",
    "B[9, 3:5] = B[9, 7:9] .= 1 \n",
    ";\n",
    "@draw dibujar_matriz(B, 0, 0, 0)"
   ]
  },
  {
   "cell_type": "code",
   "execution_count": 71,
   "id": "olive-finland",
   "metadata": {},
   "outputs": [
    {
     "data": {
      "image/png": "[encoded data removed]",
      "text/plain": []
     },
     "execution_count": 71,
     "metadata": {},
     "output_type": "execute_result"
    }
   ],
   "source": [
    "#Configuracion unidimensional\n",
    "\n",
    "L = zeros(Int8, (100,80))\n",
    "L[50, 30:38] .= 1\n",
    "L[50, 40:44] .= 1\n",
    "L[50, 48:50] .= 1\n",
    "L[50, 57:63] .= 1\n",
    "L[50, 65:69] .= 1\n",
    "\n",
    "@draw dibujar_matriz(L, .9, .7, .2)"
   ]
  },
  {
   "cell_type": "markdown",
   "id": "married-emerald",
   "metadata": {},
   "source": [
    "## Puffer train "
   ]
  },
  {
   "cell_type": "code",
   "execution_count": 15,
   "id": "architectural-pepper",
   "metadata": {
    "scrolled": false
   },
   "outputs": [
    {
     "data": {
      "image/png": "[encoded data removed]",
      "text/plain": []
     },
     "execution_count": 15,
     "metadata": {},
     "output_type": "execute_result"
    }
   ],
   "source": [
    "PT = zeros(Int8, (156,156))\n",
    "PT[1,19] = 1\n",
    "PT[2, 19:22] .= 1\n",
    "PT[3, 6] = PT[3, 8] = PT[3, 21] = PT[3, 22] = 1\n",
    "PT[4, 6] = PT[4, 9] = PT[4, 24] = 1\n",
    "PT[5, 9:10] .= 1\n",
    "PT[5, 21:24] .= 1\n",
    "PT[6, 11] = PT[6, 25] = 1\n",
    "PT[7, 9:12] .= 1\n",
    "PT[7, 21] = 1\n",
    "PT[7, 24:26] .= 1\n",
    "PT[8,8] = 1\n",
    "PT[8, 13] = 1\n",
    "PT[8, 23:25] .= 1\n",
    "PT[9, 10] = PT[9, 13] = PT[9, 24] = 1\n",
    "PT[10, 10] = PT[10, 13] = 1\n",
    "PT[10, 19] = 1\n",
    "PT[10, 21:23] .= 1\n",
    "PT[11, 12] = 1\n",
    "PT[11, 19:20] .= 1\n",
    "PT[11, 23] = 1\n",
    "PT[12, 6] = 1\n",
    "PT[12, 8:11] .= 1\n",
    "PT[12, 20:22] .= 1\n",
    "PT[13, 6] = 1\n",
    "PT[13, 10] = 1\n",
    "PT[13, 20] = 1\n",
    "PT[14, 9] = PT[14, 22] = 1\n",
    "PT[15, 7] = PT[15, 9] = PT[15, 20] = PT[15, 22] = 1\n",
    "PT[16, 23] = 1\n",
    "PT[17, 8:10] .= 1\n",
    "PT[17, 20] = 1\n",
    "PT[17, 22] = 1\n",
    "PT[18, 9:10] .= 1\n",
    "PT[18, 22] = 1\n",
    "PT[19, 8:10] .= 1\n",
    "PT[19, 20] = 1\n",
    "PT[20, 20:22] .= 1\n",
    "PT[21, 7] = PT[21, 9] = 1\n",
    "PT[21, 19:20] .= 1\n",
    "PT[21, 23] = 1\n",
    "PT[22, 9] = PT[22, 19] = 1\n",
    "PT[22, 21:23] .= 1\n",
    "PT[23, 6] = PT[23, 10] = PT[23, 24] = 1\n",
    "PT[24, 6] = 1\n",
    "PT[24, 8:11] .= 1\n",
    "PT[24, 23:25] .= 1\n",
    "PT[25, 12] = PT[25, 21] = 1\n",
    "PT[25, 24:26] .= 1\n",
    "PT[26, 10] = PT[26, 13] = PT[26, 25] = 1\n",
    "PT[27, 10] = PT[27, 13] = 1\n",
    "PT[27, 21:24] .= 1\n",
    "PT[28, 8] = PT[28, 13] = PT[28, 24] = 1\n",
    "PT[29, 9:12] .= 1\n",
    "PT[29, 21:22] .= 1\n",
    "PT[30, 11] = 1\n",
    "PT[30, 19:22] .= 1\n",
    "PT[30, 25] = PT[30, 27] = 1\n",
    "PT[31, 9:10] .= 1\n",
    "PT[31, 19] = PT[31, 25] = PT[31, 28] = 1\n",
    "PT[32, 6] = PT[32, 9] = PT[32, 17] = PT[32, 19] = 1\n",
    "PT[32, 28:29] .= 1\n",
    "PT[33, 6] = PT[33, 8] = PT[33, 17] = PT[33, 30] = 1\n",
    "PT[34, 15] = 1\n",
    "PT[34, 18:19] .= 1\n",
    "PT[34, 28:31] .= 1\n",
    "PT[35, 3:4] .= 1\n",
    "PT[35, 6] = 1\n",
    "PT[35, 16:18] .= 1\n",
    "PT[35, 27] = 1\n",
    "PT[35, 32] = 1\n",
    "PT[36, 6] = PT[36, 14] = PT[36, 16] = PT[36, 29] = PT[36, 32] = 1\n",
    "PT[37, 3] = 1\n",
    "PT[37, 5:6] .= 1\n",
    "PT[37, 14] = PT[37, 29] = PT[37,32] = 1\n",
    "PT[38, 3] = 1\n",
    "PT[38, 13:14] .= 1\n",
    "PT[38, 31] = 1\n",
    "PT[39, 1] = PT[39, 9] = 1\n",
    "PT[39, 11:13] .= 1\n",
    "PT[39, 25] = 1\n",
    "PT[39, 27:30] .= 1\n",
    "\n",
    "#Franja vertical de la izquierda\n",
    "\n",
    "PT[40:117, 2] .= 1\n",
    "\n",
    "#Regresamos al llenado por renglones\n",
    "\n",
    "PT[40, 8] = 1\n",
    "PT[40, 10:11] .= 1\n",
    "PT[40, 25] = PT[40, 29] = 1\n",
    "PT[41, 8:9] .= 1\n",
    "PT[41, 28] = 1\n",
    "PT[42, 4] = 1\n",
    "PT[42, 7:8] .= 1\n",
    "PT[42, 26] = PT[42, 28] = 1\n",
    "PT[43, 4] = 1\n",
    "PT[43, 6:7] .= 1\n",
    "PT[44, 27:29] .= 1\n",
    "PT[45, 4] = 1\n",
    "PT[45, 6:7] .= 1\n",
    "PT[45, 28:29] .= 1\n",
    "PT[46, 4] = 1\n",
    "PT[46, 7:8] .= 1\n",
    "PT[46, 14] = PT[46, 16] = PT[46, 21] = PT[46, 23] = 1\n",
    "PT[46, 28:29] .= 1\n",
    "PT[47, 8:9] .= 1\n",
    "PT[47, 11:12] .= 1\n",
    "PT[47, 14] = PT[47, 17] = PT[47, 20] = PT[47, 23] = 1\n",
    "PT[47, 25:29] .= 1\n",
    "PT[48, 8:9] .= 1\n",
    "PT[48, 17:18] .= 1\n",
    "PT[48, 22] = PT[48, 27] = 1\n",
    "PT[49, 4] = 1\n",
    "PT[49, 7:8] .= 1\n",
    "PT[49, 14] = PT[49, 21] = PT[49, 29] = 1\n",
    "PT[50, 4] = 1\n",
    "PT[50, 6:7] .= 1\n",
    "PT[50, 14] = 1\n",
    "PT[50, 16:20] .= 1\n",
    "PT[50, 27] = PT[50, 29] = 1\n",
    "PT[51, 11:12] .= 1\n",
    "PT[51, 30] = 1\n",
    "PT[52, 4] = 1\n",
    "PT[52, 6:7] .= 1\n",
    "PT[52, 14] = 1\n",
    "PT[52, 16:20] .= 1\n",
    "PT[52, 27] = PT[52, 29] = 1\n",
    "PT[53, 4] = 1\n",
    "PT[53, 4] = 1\n",
    "PT[53, 7:8] .= 1\n",
    "PT[53, 14] = 1\n",
    "PT[53, 21] = 1\n",
    "PT[53, 29] = 1\n",
    "PT[54, 8:9] .= 1\n",
    "PT[54, 17:18] .= 1\n",
    "PT[54, 22] = PT[54, 27] = 1\n",
    "PT[55, 8:9] .= 1\n",
    "PT[55, 11:12] .= 1\n",
    "PT[55, 14] = PT[55, 17] = PT[55, 20] = PT[55, 23] = 1\n",
    "PT[55, 25:29] .= 1\n",
    "PT[56, 4] = 1\n",
    "PT[56, 7:8] .= 1\n",
    "PT[56, 14] = PT[56, 16] = PT[56, 21] = PT[56, 23] = 1\n",
    "PT[56, 28:29] .= 1\n",
    "PT[57, 4] = 1\n",
    "PT[57, 6:7] .= 1\n",
    "PT[57, 28:29] .= 1\n",
    "PT[58, 27:29] .= 1\n",
    "PT[59, 4] = 1\n",
    "PT[59, 6:7] .= 1\n",
    "PT[60, 4] = 1\n",
    "PT[60, 7:8] .= 1\n",
    "PT[60, 26] = PT[60, 28] = 1\n",
    "PT[61, 8:9] .= 1\n",
    "PT[61, 28] = 1\n",
    "PT[62, 4] = PT[62, 7] = 1\n",
    "PT[62, 9:10] .= 1\n",
    "PT[62, 25] = PT[62, 29] = 1\n",
    "PT[63, 4] = 1\n",
    "PT[63, 6:8] .=1 \n",
    "PT[63, 11] = PT[63, 25] = 1\n",
    "PT[63, 27:30] .= 1\n",
    "PT[64, 11] = PT[64, 31] = 1\n",
    "PT[65, 4] = 1\n",
    "PT[65, 6:8] .= 1\n",
    "PT[65, 11] = PT[65, 29] = PT[65, 32] = 1\n",
    "PT[66, 4] = PT[66, 7] = 1\n",
    "PT[66, 9:10] .= 1\n",
    "PT[66, 29] = PT[66, 32] = 1\n",
    "PT[67, 8:9] .= 1\n",
    "PT[67, 27] = PT[67, 32] = 1\n",
    "PT[68, 4] = 1\n",
    "PT[68, 7:8] .= 1\n",
    "PT[68, 28:31] .= 1\n",
    "PT[69, 4] = 1\n",
    "PT[69, 6:7] .= 1\n",
    "PT[69, 30] = 1\n",
    "PT[70, 28:29] .= 1\n",
    "PT[71, 4] = 1\n",
    "PT[71, 6:7] .= 1\n",
    "PT[71, 25] = PT[71, 28] = 1\n",
    "PT[72, 4] = 1\n",
    "PT[72, 7:8] .= 1\n",
    "PT[72, 25] = PT[72, 27] = 1\n",
    "PT[73, 8:9] .= 1\n",
    "PT[74, 4] = PT[74, 7] = 1\n",
    "PT[74, 9:10] .= 1\n",
    "PT[75, 4] = 1\n",
    "PT[75, 6:8] .= 1\n",
    "PT[75, 11] = 1\n",
    "PT[76, 11] = PT[76, 25] = PT[76, 27] = 1\n",
    "PT[77, 4] = 1\n",
    "PT[77, 6:8] .= 1\n",
    "PT[77, 11] = PT[77, 25] = PT[77, 28] = 1\n",
    "PT[78, 4] = PT[78, 7] = 1\n",
    "PT[78, 9:10] .= 1\n",
    "PT[78, 28:29] .= 1\n",
    "PT[79, 8:9] .= 1\n",
    "PT[79, 30] = 1\n",
    "PT[80, 4] = 1\n",
    "PT[80, 7:8] .= 1\n",
    "PT[80, 28:31] .= 1\n",
    "PT[81, 4] = 1\n",
    "PT[81, 6:7] .= 1\n",
    "PT[81, 27] = PT[81, 32] = 1\n",
    "PT[82, 29] = PT[82, 32] = 1\n",
    "PT[83, 4] = 1\n",
    "PT[83, 6:7] .= 1\n",
    "PT[83, 29] = PT[83, 32] = 1\n",
    "PT[84, 4] = 1\n",
    "PT[84, 7:8] .= 1\n",
    "PT[84, 31] = 1\n",
    "PT[85, 8:9] .= 1\n",
    "PT[85, 25] = 1\n",
    "PT[85, 27:30] .= 1\n",
    "PT[86, 4] = PT[86, 7] = 1\n",
    "PT[86, 9:10] .= 1\n",
    "PT[86, 25] = 1\n",
    "PT[86, 29] = 1\n",
    "PT[87, 4] = 1\n",
    "PT[87, 6:8] .= 1\n",
    "PT[87, 11] = 1\n",
    "PT[87, 28] = 1\n",
    "PT[88, 11] = PT[88, 26] = PT[88, 28] = 1\n",
    "PT[89, 4] = 1\n",
    "PT[89, 6:8] .= 1\n",
    "PT[89, 11] = 1\n",
    "PT[90, 4] = PT[90, 7] = 1\n",
    "PT[90, 9:10] .= 1\n",
    "PT[90, 27:29] .= 1\n",
    "PT[91, 8:9] .= 1\n",
    "PT[91, 28:29] .= 1\n",
    "PT[92, 4] = 1\n",
    "PT[92, 7:8] .= 1\n",
    "PT[92, 14] = PT[92, 16] = PT[92, 21] = PT[92, 23] = 1\n",
    "PT[92, 28:29] .= 1\n",
    "PT[93, 4] = 1\n",
    "PT[93, 6:7] .= 1\n",
    "PT[93, 11:12] .= 1\n",
    "PT[93, 14] = 1\n",
    "PT[93, 17] = PT[93, 20] = PT[93, 23] = 1\n",
    "PT[93, 25:29] .= 1\n",
    "PT[94, 17:18] .= 1\n",
    "PT[94, 22] = PT[94, 27] = 1\n",
    "PT[95, 4] = 1\n",
    "PT[95, 6:7] .= 1\n",
    "PT[95, 14] = PT[95, 21] = PT[95, 29] = 1\n",
    "PT[96, 4] = 1\n",
    "PT[96, 7:8] .= 1\n",
    "PT[96, 14] = 1\n",
    "PT[96, 16:20] .= 1\n",
    "PT[96, 27] = PT[96, 29] = 1\n",
    "PT[97, 8:9] .= 1\n",
    "PT[97, 11:12] .= 1\n",
    "PT[97, 30] = 1\n",
    "PT[98, 8:9] .= 1\n",
    "PT[98, 14] = 1\n",
    "PT[98, 16:20] .= 1\n",
    "PT[98, 27] = PT[98, 29] = 1\n",
    "PT[99, 4] = 1\n",
    "PT[99, 7:8] .= 1\n",
    "PT[99, 14] = 1\n",
    "PT[99, 21] = 1\n",
    "PT[99, 29] = 1\n",
    "PT[100, 4] = 1\n",
    "PT[100, 6:7] .= 1\n",
    "PT[100, 17:18] .= 1\n",
    "PT[100, 22] = 1\n",
    "PT[100, 27] = 1\n",
    "PT[101, 11:12] .= 1\n",
    "PT[101, 14] = PT[101, 17] = PT[101, 20] = PT[101, 23] = 1\n",
    "PT[101, 25:29] .= 1\n",
    "PT[102, 4] = 1\n",
    "PT[102, 6:7] .= 1\n",
    "PT[102, 14] = PT[102, 16] = PT[102, 21] = PT[102, 23] = 1\n",
    "PT[102, 28:29] .= 1\n",
    "PT[103, 4] = 1\n",
    "PT[103, 7:8] .= 1\n",
    "PT[103, 28:29] .= 1\n",
    "PT[104, 8:9] .= 1\n",
    "PT[104, 27:29] .= 1\n",
    "PT[105, 4] = PT[105, 7] = 1\n",
    "PT[105, 9:10] .= 1\n",
    "PT[106, 4] = 1\n",
    "PT[106, 6:8] .= 1\n",
    "PT[106, 11] = PT[106, 26] = PT[106, 28] = 1\n",
    "PT[107, 11] = PT[107, 28] = 1\n",
    "PT[108, 4] = 1\n",
    "PT[108, 6:8] .= 1\n",
    "PT[108, 11] = PT[108, 25] = PT[108, 29] = 1\n",
    "PT[109, 4] = PT[109, 7] = 1\n",
    "PT[109, 9:10] .= 1\n",
    "PT[109, 25] = 1\n",
    "PT[109, 27:30] .= 1\n",
    "PT[110, 8:9] .= 1\n",
    "PT[110, 31] = 1\n",
    "PT[111, 4] = 1\n",
    "PT[111, 7:8] .= 1\n",
    "PT[111, 29] = PT[111, 32] = 1\n",
    "PT[112, 4] = 1\n",
    "PT[112, 6:7] .= 1\n",
    "PT[112, 29] = PT[112, 32] = 1\n",
    "PT[113, 27] = PT[113, 32] = 1\n",
    "PT[114, 4] = 1\n",
    "PT[114, 6:7] .= 1\n",
    "PT[114, 28:31] .= 1\n",
    "PT[115, 4] = 1\n",
    "PT[115, 7:8] .= 1\n",
    "PT[115, 30] = 1\n",
    "PT[116, 8:9] .= 1\n",
    "PT[116, 28:29] .= 1\n",
    "PT[117, 8] = 1\n",
    "PT[117, 10:11] .= 1\n",
    "PT[117, 25] = PT[117, 28] = 1\n",
    "PT[118, 1] = PT[118, 9] = 1\n",
    "PT[118, 11:13] .= 1\n",
    "PT[118, 25] = PT[118, 27] = 1\n",
    "PT[119, 3] = 1\n",
    "PT[119, 13:14] .= 1\n",
    "PT[120, 3] = 1\n",
    "PT[120, 5:6] .= 1\n",
    "PT[120, 14] = 1\n",
    "PT[121, 6] = PT[121, 14] = PT[121, 16] = 1\n",
    "PT[122, 3:4] .= 1\n",
    "PT[122, 6] = 1\n",
    "PT[122,16:18] .= 1\n",
    "PT[123, 15] = 1\n",
    "PT[123, 18:19] .= 1\n",
    "PT[124, 6] = PT[124, 8] = PT[124, 17] = 1\n",
    "PT[125, 6] = PT[125, 9] = PT[125, 17] = PT[125, 19] = 1\n",
    "PT[126, 9:10] .= 1\n",
    "PT[126, 19] = 1\n",
    "PT[127, 11] = 1\n",
    "PT[127, 19:22] .= 1\n",
    "PT[128, 9:12] .= 1\n",
    "PT[128, 21:22] .= 1\n",
    "PT[129, 8] = PT[129, 13] = PT[129, 24] = 1\n",
    "PT[130, 10] = PT[130, 13] = 1\n",
    "PT[130, 21:24] .= 1\n",
    "PT[131, 10] = PT[131, 13] = PT[131, 25] = 1\n",
    "PT[132, 12] = PT[132, 21] = 1\n",
    "PT[132, 24:26] .= 1\n",
    "PT[133, 6] = 1\n",
    "PT[133, 8:11] .= 1\n",
    "PT[133, 23:25] .= 1\n",
    "PT[134, 6] = PT[134, 10] = PT[134, 24] = 1\n",
    "PT[135, 9] = PT[135, 19] = 1\n",
    "PT[135, 21:23] .= 1\n",
    "PT[136, 7] = PT[136, 9] = 1\n",
    "PT[136, 19:20] .= 1\n",
    "PT[136, 23] = 1\n",
    "PT[137, 20:22] .= 1\n",
    "PT[138, 8:10] .= 1\n",
    "PT[138, 20] = 1\n",
    "PT[139, 9:10] .= 1\n",
    "PT[139, 22] = 1\n",
    "PT[140, 8:10] .= 1\n",
    "PT[140, 20] = PT[140, 22] = 1\n",
    "PT[141, 23] = 1\n",
    "PT[142, 7] = PT[142, 9] = PT[142, 20] = PT[142, 22] = 1\n",
    "PT[143, 9] = PT[143, 22] = 1\n",
    "PT[144, 6] = PT[144, 10] = PT[144, 20] = 1\n",
    "PT[145, 6] = 1\n",
    "PT[145, 8:11] .= 1\n",
    "PT[145, 20:22] .= 1\n",
    "PT[146, 12] = 1\n",
    "PT[146, 19:20] .= 1\n",
    "PT[146, 23] = 1\n",
    "PT[147, 10] = PT[147, 13] = PT[147, 19] = 1\n",
    "PT[147, 21:23] .= 1\n",
    "PT[148, 10] = PT[148, 13] = PT[148, 24] = 1\n",
    "PT[149, 8] = PT[149, 13] = 1\n",
    "PT[149, 23:25] .= 1\n",
    "PT[150, 9:12] .= 1\n",
    "PT[150, 21] = 1\n",
    "PT[150, 24:26] .= 1\n",
    "PT[151, 11] = PT[151, 25] = 1\n",
    "PT[152, 9:10] .= 1\n",
    "PT[152, 21:24] .= 1\n",
    "PT[153, 6] = PT[153, 9] = PT[153, 24] = 1\n",
    "PT[154, 6] = PT[154, 8] = 1\n",
    "PT[154, 21:22] .= 1\n",
    "PT[155, 19:22] .= 1\n",
    "PT[156, 19] = 1\n",
    "\n",
    "\n",
    "\n",
    "\n",
    "@draw dibujar_matriz(PT)"
   ]
  },
  {
   "cell_type": "code",
   "execution_count": 30,
   "id": "alpine-shift",
   "metadata": {},
   "outputs": [
    {
     "data": {
      "image/png": "[encoded data removed]",
      "text/plain": []
     },
     "execution_count": 30,
     "metadata": {},
     "output_type": "execute_result"
    }
   ],
   "source": [
    "PT3 = recorrerPT(PT)\n",
    "@draw dibujar_matriz(PT3)"
   ]
  },
  {
   "cell_type": "markdown",
   "id": "sharp-wedding",
   "metadata": {},
   "source": [
    "## Dos cangrejos encontrandose"
   ]
  },
  {
   "cell_type": "code",
   "execution_count": 31,
   "id": "extra-czech",
   "metadata": {
    "scrolled": true
   },
   "outputs": [
    {
     "data": {
      "image/png": "[encoded data removed]",
      "text/plain": []
     },
     "execution_count": 31,
     "metadata": {},
     "output_type": "execute_result"
    }
   ],
   "source": [
    "PT4 = PT3 + reflejar_eje_y(PT3)\n",
    "\n",
    "@draw dibujar_matriz(PT4)"
   ]
  },
  {
   "cell_type": "markdown",
   "id": "alien-norman",
   "metadata": {},
   "source": [
    "## Medio Space Filler"
   ]
  },
  {
   "cell_type": "code",
   "execution_count": 38,
   "id": "becoming-sheet",
   "metadata": {
    "scrolled": false
   },
   "outputs": [
    {
     "data": {
      "image/png": "[encoded data removed]",
      "text/plain": []
     },
     "execution_count": 38,
     "metadata": {},
     "output_type": "execute_result"
    }
   ],
   "source": [
    "S = zeros(Int8, (50, 50))\n",
    "\n",
    "\n",
    "S[1, 21:23] .= 1\n",
    "\n",
    "S[2, 20] = 1\n",
    "S[2, 23] = 1\n",
    "\n",
    "S[3, 1:4] .= 1\n",
    "S[3, 23] = 1\n",
    "S[4, 1] = 1\n",
    "S[4, 5] = 1\n",
    "S[4, 23] = 1\n",
    "S[5, 1] = 1\n",
    "S[5, 10] = 1\n",
    "S[5, 23] = 1\n",
    "S[6, 2] = 1\n",
    "S[6, 5] = 1\n",
    "S[6, 8:9] .= 1\n",
    "S[6, 12] = 1\n",
    "S[7, 7] = 1\n",
    "S[7, 13] = 1\n",
    "S[7, 21:23] .= 1\n",
    "\n",
    "\n",
    "S[8, 7] = 1\n",
    "S[8, 13] = 1\n",
    "S[8, 22] = 1\n",
    "S[9, 7] = 1\n",
    "S[9, 13] = 1\n",
    "S[9, 22:25] .= 1\n",
    "S[10, 2] = 1\n",
    "S[10, 5] = 1\n",
    "S[10, 8:9] .= 1\n",
    "S[10, 12] = 1\n",
    "S[10, 15:16] .= 1\n",
    "S[10, 21] = 1\n",
    "S[11, 1] = 1\n",
    "S[11, 10] = 1\n",
    "S[11, 14:15] .= 1\n",
    "S[11, 20:25] .= 1\n",
    "S[12, 1] = 1\n",
    "S[12, 5] = 1\n",
    "S[12, 15:16] .= 1\n",
    "S[13, 1:4] .= 1\n",
    "S[13, 16:25] .= 1\n",
    "S[14, 17] = 1\n",
    "S[14, 19] = 1\n",
    "S[15, 20:25] .= 1\n",
    "S[16, 20] = 1\n",
    "S[17, 21:25] .= 1\n",
    "S[18, 25] = 1\n",
    "S[19, 21:23] .= 1\n",
    "S[20, 23] = 1\n",
    "S[22, 22:24] .= 1\n",
    "S[23, 22:24] .= 1\n",
    "S[24, 21] = 1\n",
    "S[24, 23:24] .= 1\n",
    "S[25, 21:23] .= 1\n",
    "S[26, 22] = 1\n",
    "\n",
    "@draw dibujar_matriz(S, 1, 0, 0)"
   ]
  },
  {
   "cell_type": "markdown",
   "id": "ranging-dependence",
   "metadata": {},
   "source": [
    "## Space Filler"
   ]
  },
  {
   "cell_type": "code",
   "execution_count": 39,
   "id": "blocked-adrian",
   "metadata": {
    "scrolled": true
   },
   "outputs": [
    {
     "data": {
      "image/png": "[encoded data removed]",
      "text/plain": []
     },
     "execution_count": 39,
     "metadata": {},
     "output_type": "execute_result"
    }
   ],
   "source": [
    "S1 = zeros(Int8, (size(S,1), size(S,1)))\n",
    "S2 = zeros(Int8, (size(S,1), size(S,1)))\n",
    "\n",
    "[S1[j, 50 - i] = S[j,i] for j ∈ 1:26, i ∈ 1:25]\n",
    "\n",
    "S2 = S1 + S\n",
    "[S2[z, 25] = 1 for z ∈ [9,11,13,15,17]]\n",
    "S2[18, 25] = 1\n",
    "S3 = ampliar(S2, 300)\n",
    "S4 = trasladar_derecha(S3, 125)\n",
    "S5 = trasladar_abajo(S4, 125)\n",
    "\n",
    "@draw dibujar_matriz(S5, 1,0.5,0)"
   ]
  },
  {
   "cell_type": "code",
   "execution_count": 33,
   "id": "forty-creativity",
   "metadata": {},
   "outputs": [
    {
     "data": {
      "image/png": "[encoded data removed]",
      "text/plain": []
     },
     "execution_count": 33,
     "metadata": {},
     "output_type": "execute_result"
    }
   ],
   "source": [
    "I = zeros(Int8, (5, 5))\n",
    "I[3, 2:4] .= 1\n",
    "@draw dibujar_matriz(I, 0, 0, 0)"
   ]
  },
  {
   "cell_type": "markdown",
   "id": "previous-theology",
   "metadata": {},
   "source": [
    "# Game of Life "
   ]
  },
  {
   "cell_type": "markdown",
   "id": "endless-scout",
   "metadata": {},
   "source": [
    "Cómo funciona:\n",
    "\n",
    "1. Correr las funciones vecinos, dibujar_matriz, evolucionar.\n",
    "2. Crear una matriz I con la configuración inicial deseada. \n",
    "3. Meterla a un arreglo (array = Array[I])\n",
    "4. Evolucionar imax-imin veces ([evolucionar(array[i]) for i ∈ imin:imax])\n",
    "5. Correr el código:\n",
    "\n",
    "    counter = 1\n",
    "    for i ∈ 1:length(array)\n",
    "        @png begin\n",
    "            dibujar_matriz(array[i], 0,0,0)\n",
    "    end 600 600 \"C:/Users/progr/Pictures/Game of Life/Periodica/Periodica_$(counter).png\"\n",
    "        counter += 1\n",
    "end\n",
    "\n",
    "Para guardar las evoluciones en la carpeta dada."
   ]
  },
  {
   "cell_type": "code",
   "execution_count": 43,
   "id": "forced-orchestra",
   "metadata": {},
   "outputs": [],
   "source": [
    "function vecinos(j,i,A)\n",
    "                        A[j-1, i-1] + A[j, i-1] + A[j+1, i-1] +\n",
    "                        A[j-1, i] + A[j+1, i] + \n",
    "                        A[j-1, i+1] + A[j, i+1] + A[j+1, i+1]\n",
    "end\n",
    ";"
   ]
  },
  {
   "cell_type": "code",
   "execution_count": 44,
   "id": "million-festival",
   "metadata": {},
   "outputs": [
    {
     "data": {
      "text/plain": [
       "dibujar_matriz (generic function with 1 method)"
      ]
     },
     "execution_count": 44,
     "metadata": {},
     "output_type": "execute_result"
    }
   ],
   "source": [
    "#Funcion dibujar matriz\n",
    "\n",
    "function dibujar_matriz(M, a, b, c)\n",
    "    \n",
    "        k = size(M)[1]\n",
    "        l = size(M)[2]\n",
    "    \n",
    "    background(\"White\")\n",
    "        t = Table(k, l, 500/k, 500/l)\n",
    "            for i ∈ 1:l\n",
    "                for j ∈ 1:k\n",
    "                    if M[j,i] == 1\n",
    "                        sethue(a,b,c) #Color de la matriz\n",
    "                        box(t, j, i, :fill)\n",
    "                    end\n",
    "                end\n",
    "            end \n",
    "end"
   ]
  },
  {
   "cell_type": "code",
   "execution_count": 90,
   "id": "renewable-process",
   "metadata": {},
   "outputs": [
    {
     "data": {
      "text/plain": [
       "1-element Array{Array,1}:\n",
       " Int8[0 0 … 0 0; 0 0 … 0 0; … ; 0 0 … 0 0; 0 0 … 0 0]"
      ]
     },
     "execution_count": 90,
     "metadata": {},
     "output_type": "execute_result"
    }
   ],
   "source": [
    "#Arreglo de arreglos\n",
    "\n",
    "array = Array[G]"
   ]
  },
  {
   "cell_type": "code",
   "execution_count": 34,
   "id": "inappropriate-profit",
   "metadata": {},
   "outputs": [
    {
     "data": {
      "text/plain": [
       "evolucionar (generic function with 1 method)"
      ]
     },
     "execution_count": 34,
     "metadata": {},
     "output_type": "execute_result"
    }
   ],
   "source": [
    "function evolucionar(A)\n",
    "        \n",
    "        k = size(A)[1]\n",
    "        l = size(A)[2]\n",
    "    \n",
    "        B = copy(A)\n",
    "\n",
    "            for i ∈ 2:(l - 1)\n",
    "                for j ∈ 2:(k - 1)\n",
    "            \n",
    "                        #=\n",
    "                                Any live cell with fewer \n",
    "                            than two live neighbours dies, \n",
    "                            as if by underpopulation.\n",
    "                        =#\n",
    "\n",
    "                        if A[j,i] == 1 && vecinos(j,i,A) < 2\n",
    "                                B[j,i] = 0\n",
    "                        end\n",
    "\n",
    "                         #=\n",
    "                               Any live cell with \n",
    "                                two or three live neighbours \n",
    "                                lives on to the next generation.\n",
    "                         =#\n",
    "\n",
    "                        if A[j,i] == 1 && (vecinos(j,i,A) == 2 || vecinos(j,i,A) == 3)\n",
    "\n",
    "                            B[j,i] = 1\n",
    "                        end\n",
    "\n",
    "                         #=\n",
    "                               Any live cell with more than three\n",
    "                                live neighbours dies, \n",
    "                                as if by overpopulation.\n",
    "                        =#\n",
    "\n",
    "                        if A[j,i] == 1 && vecinos(j,i,A) > 3\n",
    "\n",
    "                            B[j,i] = 0\n",
    "                        end\n",
    "\n",
    "                        #=\n",
    "                                  Any dead cell with exactly \n",
    "                                    three live neighbours becomes a live cell, \n",
    "                                        as if by reproduction.      \n",
    "                        =#\n",
    "\n",
    "                        if A[j,i] == 0 && vecinos(j,i,A) == 3\n",
    "\n",
    "                            B[j,i] = 1\n",
    "                        end\n",
    "\n",
    "                end\n",
    "            end\n",
    "    \n",
    "            contador = 0\n",
    "        \n",
    "            for i ∈ 2:(l - 1), j ∈ 2:(k - 1)\n",
    "        \n",
    "                    if B[j,i] == A[j,i]\n",
    "                        contador += 1\n",
    "                    end\n",
    "            end\n",
    "    \n",
    "                if contador != ((l-2)*(k-2))\n",
    "                    push!(array, B)\n",
    "        else\n",
    "            nothing\n",
    "        end\n",
    "    \n",
    "        return B\n",
    "\n",
    "end\n",
    "\n"
   ]
  },
  {
   "cell_type": "code",
   "execution_count": 48,
   "id": "pregnant-variation",
   "metadata": {},
   "outputs": [
    {
     "data": {
      "text/plain": [
       "100×100 Array{Int8,2}:\n",
       " 0  0  0  0  0  0  0  0  0  0  0  0  0  …  0  0  0  0  0  0  0  0  0  0  0  0\n",
       " 0  0  0  0  0  0  0  0  0  0  0  0  0     0  0  0  0  0  0  0  0  0  0  0  0\n",
       " 0  0  0  0  0  0  0  0  0  0  0  0  0     0  0  0  0  0  0  0  0  0  0  0  0\n",
       " 0  0  0  0  0  0  0  0  0  0  0  0  0     0  0  0  0  0  0  0  0  0  0  0  0\n",
       " 0  0  0  0  0  0  0  0  0  0  0  0  0     0  0  0  0  0  0  0  0  0  0  0  0\n",
       " 0  0  1  1  0  0  0  0  0  0  0  0  1  …  0  0  0  0  0  0  0  0  0  0  0  0\n",
       " 0  0  1  1  0  0  0  0  0  0  0  1  1     0  0  0  0  0  0  0  0  0  0  0  0\n",
       " 0  0  0  0  0  0  0  0  0  0  0  0  1     0  0  0  0  0  0  0  0  0  0  0  0\n",
       " 0  0  0  0  0  0  0  0  0  0  0  0  0     0  0  0  0  0  0  0  0  0  0  0  0\n",
       " 0  0  0  0  0  0  0  0  0  0  0  0  0     0  0  0  0  0  0  0  0  0  0  0  0\n",
       " 0  0  0  0  0  0  0  0  0  0  0  0  0  …  0  0  0  0  0  0  0  0  0  0  0  0\n",
       " 0  0  0  0  0  0  0  0  0  0  0  0  0     0  0  0  0  0  0  0  0  0  0  0  0\n",
       " 0  0  0  0  0  0  0  0  0  0  0  0  0     0  0  0  0  0  0  0  0  0  0  0  0\n",
       " ⋮              ⋮              ⋮        ⋱        ⋮              ⋮           \n",
       " 0  0  0  0  0  0  0  0  0  0  0  0  0     0  0  0  0  0  0  0  0  0  0  0  0\n",
       " 0  0  0  0  0  0  0  0  0  0  0  0  0     0  0  0  0  0  0  0  0  0  0  0  0\n",
       " 0  0  0  0  0  0  0  0  0  0  0  0  0  …  0  0  0  0  0  0  0  0  0  0  0  0\n",
       " 0  0  0  0  0  0  0  0  0  0  0  0  0     0  0  0  0  0  0  0  0  0  0  0  0\n",
       " 0  0  0  0  0  0  0  0  0  0  0  0  0     0  0  0  0  0  0  0  0  0  0  0  0\n",
       " 0  0  0  0  0  0  0  0  0  0  0  0  0     0  0  0  0  0  0  0  0  0  0  0  0\n",
       " 0  0  0  0  0  0  0  0  0  0  0  0  0     0  0  0  0  0  0  0  0  0  0  0  0\n",
       " 0  0  0  0  0  0  0  0  0  0  0  0  0  …  0  0  0  0  0  0  0  0  0  0  0  0\n",
       " 0  0  0  0  0  0  0  0  0  0  0  0  0     0  0  0  0  0  0  0  0  0  0  0  0\n",
       " 0  0  0  0  0  0  0  0  0  0  0  0  0     0  0  0  0  0  0  0  0  0  0  0  0\n",
       " 0  0  0  0  0  0  0  0  0  0  0  0  0     0  0  0  0  0  0  0  0  0  0  0  0\n",
       " 0  0  0  0  0  0  0  0  0  0  0  0  0     0  0  0  0  0  0  0  0  0  0  0  0"
      ]
     },
     "execution_count": 48,
     "metadata": {},
     "output_type": "execute_result"
    }
   ],
   "source": [
    "evolucionar(array[1])"
   ]
  },
  {
   "cell_type": "code",
   "execution_count": 92,
   "id": "detected-council",
   "metadata": {
    "scrolled": true
   },
   "outputs": [
    {
     "data": {
      "text/plain": [
       "25-element Array{Array{Int8,2},1}:\n",
       " [0 0 … 0 0; 0 0 … 0 0; … ; 0 0 … 0 0; 0 0 … 0 0]\n",
       " [0 0 … 0 0; 0 0 … 0 0; … ; 0 0 … 0 0; 0 0 … 0 0]\n",
       " [0 0 … 0 0; 0 0 … 0 0; … ; 0 0 … 0 0; 0 0 … 0 0]\n",
       " [0 0 … 0 0; 0 0 … 0 0; … ; 0 0 … 0 0; 0 0 … 0 0]\n",
       " [0 0 … 0 0; 0 0 … 0 0; … ; 0 0 … 0 0; 0 0 … 0 0]\n",
       " [0 0 … 0 0; 0 0 … 0 0; … ; 0 0 … 0 0; 0 0 … 0 0]\n",
       " [0 0 … 0 0; 0 0 … 0 0; … ; 0 0 … 0 0; 0 0 … 0 0]\n",
       " [0 0 … 0 0; 0 0 … 0 0; … ; 0 0 … 0 0; 0 0 … 0 0]\n",
       " [0 0 … 0 0; 0 0 … 0 0; … ; 0 0 … 0 0; 0 0 … 0 0]\n",
       " [0 0 … 0 0; 0 0 … 0 0; … ; 0 0 … 0 0; 0 0 … 0 0]\n",
       " [0 0 … 0 0; 0 0 … 0 0; … ; 0 0 … 0 0; 0 0 … 0 0]\n",
       " [0 0 … 0 0; 0 0 … 0 0; … ; 0 0 … 0 0; 0 0 … 0 0]\n",
       " [0 0 … 0 0; 0 0 … 0 0; … ; 0 0 … 0 0; 0 0 … 0 0]\n",
       " [0 0 … 0 0; 0 0 … 0 0; … ; 0 0 … 0 0; 0 0 … 0 0]\n",
       " [0 0 … 0 0; 0 0 … 0 0; … ; 0 0 … 0 0; 0 0 … 0 0]\n",
       " [0 0 … 0 0; 0 0 … 0 0; … ; 0 0 … 0 0; 0 0 … 0 0]\n",
       " [0 0 … 0 0; 0 0 … 0 0; … ; 0 0 … 0 0; 0 0 … 0 0]\n",
       " [0 0 … 0 0; 0 0 … 0 0; … ; 0 0 … 0 0; 0 0 … 0 0]\n",
       " [0 0 … 0 0; 0 0 … 0 0; … ; 0 0 … 0 0; 0 0 … 0 0]\n",
       " [0 0 … 0 0; 0 0 … 0 0; … ; 0 0 … 1 0; 0 0 … 0 0]\n",
       " [0 0 … 0 0; 0 0 … 0 0; … ; 0 0 … 1 0; 0 0 … 0 0]\n",
       " [0 0 … 0 0; 0 0 … 0 0; … ; 0 0 … 1 0; 0 0 … 0 0]\n",
       " [0 0 … 0 0; 0 0 … 0 0; … ; 0 0 … 1 0; 0 0 … 0 0]\n",
       " [0 0 … 0 0; 0 0 … 0 0; … ; 0 0 … 1 0; 0 0 … 0 0]\n",
       " [0 0 … 0 0; 0 0 … 0 0; … ; 0 0 … 0 0; 0 0 … 0 0]"
      ]
     },
     "execution_count": 92,
     "metadata": {},
     "output_type": "execute_result"
    }
   ],
   "source": [
    "[evolucionar(array[i]) for i ∈ 1:25] #Correr el metodo evolucionar imax-imin veces\n",
    "\n",
    "#=\n",
    "    Si marca algo como \"BoundsError: attempt to access 2-element Array{Array,1} at index [3]\"\n",
    "    significa que a partir de la segunda evolucion, todos los individuos son iguales.\n",
    "=#"
   ]
  },
  {
   "cell_type": "code",
   "execution_count": 11,
   "id": "aware-updating",
   "metadata": {},
   "outputs": [],
   "source": [
    "#Algo as[i] me propusieron en Julia discourse\n",
    "#=\n",
    "let\n",
    "    H = rand(1:10, 3, 3)\n",
    "    counter = 1\n",
    "    for i ∈ 1:length(H)\n",
    "        @png begin\n",
    "            text(string(i))\n",
    "        end 400 400 \"$(counter).png\"\n",
    "        counter += 1\n",
    "    end\n",
    "end\n",
    "=#"
   ]
  },
  {
   "cell_type": "code",
   "execution_count": 41,
   "id": "third-membership",
   "metadata": {},
   "outputs": [],
   "source": [
    "#=begin\n",
    "   for i ∈ 1:length(array)\n",
    "        @png dibujar_matriz(array[i])\n",
    "    end\n",
    "    \n",
    "end\n",
    "=#\n",
    "#Tampoco funciona :("
   ]
  },
  {
   "cell_type": "code",
   "execution_count": 93,
   "id": "arbitrary-incidence",
   "metadata": {},
   "outputs": [],
   "source": [
    "counter = 1\n",
    "    for i ∈ 1:length(array)\n",
    "        @png begin\n",
    "            dibujar_matriz(array[i], 0,0,0)\n",
    "    end 600 600 \"C:/Users/Andrés/Documents/Andres/UNAM/Tesis/Imagenes/GameOfLife/Glider/Glider_$(counter).png\"\n",
    "        counter += 1\n",
    "end"
   ]
  },
  {
   "cell_type": "code",
   "execution_count": 14,
   "id": "increasing-service",
   "metadata": {},
   "outputs": [],
   "source": [
    "#=\n",
    " for i ∈ 1:length(array)\n",
    "    @draw dibujar_matriz(array[i])\n",
    "end\n",
    "\n",
    " Mostrar toda la evolucion de M\n",
    "No entiendo por qu[e] no funciona\n",
    "=#"
   ]
  },
  {
   "cell_type": "code",
   "execution_count": 8,
   "id": "atlantic-cambridge",
   "metadata": {
    "scrolled": false
   },
   "outputs": [],
   "source": [
    "#=\n",
    "#usar Animate.Luxor para crear la animacion \n",
    "\n",
    "\n",
    "\n",
    "GameOfLifeMovie = Movie(1080, 1920, \"Experimento 1\")\n",
    "\n",
    "function backdrop(scene, framenumber)\n",
    "    background(0,0,0,1)\n",
    "end\n",
    "\n",
    "function frame(scene, framenumber)\n",
    "    dibujar_matriz(array[framenumber])\n",
    "end\n",
    "\n",
    "animate(GameOfLifeMovie, [\n",
    "        \n",
    "        Scene(GameOfLifeMovie, backdrop, 1:250)\n",
    "        Scene(GameOfLifeMovie, frame, 1:250)], \n",
    "        framerate = 5, \n",
    "        pathname = \"GameOfLifeMovieGlider\",\n",
    "        creategif=true,\n",
    "        )\n",
    "\n",
    "![alt text](GameOfLifeMovieGlider.gif) #Para mostrar el GIF aqu[i]\n",
    "\n",
    "=#"
   ]
  }
 ],
 "metadata": {
  "@webio": {
   "lastCommId": null,
   "lastKernelId": null
  },
  "kernelspec": {
   "display_name": "Julia 1.5.3",
   "language": "julia",
   "name": "julia-1.5"
  },
  "language_info": {
   "file_extension": ".jl",
   "mimetype": "application/julia",
   "name": "julia",
   "version": "1.5.3"
  }
 },
 "nbformat": 4,
 "nbformat_minor": 5
}
